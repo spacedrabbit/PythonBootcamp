{
 "cells": [
  {
   "cell_type": "code",
   "execution_count": 17,
   "metadata": {
    "collapsed": false
   },
   "outputs": [
    {
     "name": "stdout",
     "output_type": "stream",
     "text": [
      "1\n",
      "2\n",
      "3\n"
     ]
    },
    {
     "data": {
      "text/plain": [
       "[68.0, 75.2, 80.6]"
      ]
     },
     "execution_count": 17,
     "metadata": {},
     "output_type": "execute_result"
    }
   ],
   "source": [
    "# map, performs a func over each element in sequence literal, \n",
    "# and returns a list with the function performed on it\n",
    "def show_me(x):\n",
    "    print x\n",
    "    return x\n",
    "\n",
    "m = map(show_me, [1, 2, 3])\n",
    "\n",
    "def farenheit(x):\n",
    "    return (9.0/5.0) * x + 32\n",
    "\n",
    "map(lambda x: (9.0/5) * x + 32, [30, 32])\n",
    "map(farenheit, [20, 24, 27])"
   ]
  },
  {
   "cell_type": "code",
   "execution_count": 14,
   "metadata": {
    "collapsed": false
   },
   "outputs": [
    {
     "data": {
      "text/plain": [
       "[4, 16, 36]"
      ]
     },
     "execution_count": 14,
     "metadata": {},
     "output_type": "execute_result"
    }
   ],
   "source": [
    "def squared(x):\n",
    "    return x**2\n",
    "\n",
    "map(squared, [2, 4, 6])"
   ]
  },
  {
   "cell_type": "code",
   "execution_count": 23,
   "metadata": {
    "collapsed": false
   },
   "outputs": [
    {
     "name": "stdout",
     "output_type": "stream",
     "text": [
      "HELLO\n",
      "30\n",
      "30\n"
     ]
    }
   ],
   "source": [
    "# reduce performs a function over each element, passing over the result\n",
    "# from the prior execution, to the next one\n",
    "def app(n, w):\n",
    "    return n + w\n",
    "print reduce(app, ['H','E','L','L','O'])\n",
    "print reduce(app, [1, 1, 2, 3, 4, 5, 6, 8])\n",
    "print sum([1, 1, 2, 3, 4, 5, 6, 8])"
   ]
  },
  {
   "cell_type": "code",
   "execution_count": 26,
   "metadata": {
    "collapsed": false
   },
   "outputs": [
    {
     "data": {
      "text/plain": [
       "10"
      ]
     },
     "execution_count": 26,
     "metadata": {},
     "output_type": "execute_result"
    }
   ],
   "source": [
    "def larger(a, b):\n",
    "    return a if a > b else b\n",
    "reduce(larger, [231, 142, 904, 2, 12, -12, 39])\n",
    "\n",
    "# the lambda equiv\n",
    "reduce(lambda a,b: a if a > b else b, [3, 5,10,1, 3, 4, 1, 9])"
   ]
  },
  {
   "cell_type": "code",
   "execution_count": 28,
   "metadata": {
    "collapsed": false
   },
   "outputs": [
    {
     "data": {
      "text/plain": [
       "[2, 4, 5212, 8]"
      ]
     },
     "execution_count": 28,
     "metadata": {},
     "output_type": "execute_result"
    }
   ],
   "source": [
    "# filter, like reduce and map, takes in a function and an iterable\n",
    "# filter will locate all elements in the iterable that match True\n",
    "def even(n):\n",
    "    return n % 2 == 0\n",
    "\n",
    "filter(even, [2, 3, 4, 5, 6, 7])\n",
    "\n",
    "filter(lambda x: x % 2 == 0, [2, 4, 2123, 1235, 5212, 9, 8])"
   ]
  },
  {
   "cell_type": "code",
   "execution_count": null,
   "metadata": {
    "collapsed": true
   },
   "outputs": [],
   "source": []
  }
 ],
 "metadata": {
  "kernelspec": {
   "display_name": "Python 2",
   "language": "python",
   "name": "python2"
  },
  "language_info": {
   "codemirror_mode": {
    "name": "ipython",
    "version": 2
   },
   "file_extension": ".py",
   "mimetype": "text/x-python",
   "name": "python",
   "nbconvert_exporter": "python",
   "pygments_lexer": "ipython2",
   "version": "2.7.13"
  }
 },
 "nbformat": 4,
 "nbformat_minor": 2
}
