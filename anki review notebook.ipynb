{
 "cells": [
  {
   "cell_type": "code",
   "execution_count": 1,
   "metadata": {
    "collapsed": false
   },
   "outputs": [
    {
     "name": "stdout",
     "output_type": "stream",
     "text": [
      "this is python using multiple variables\n"
     ]
    }
   ],
   "source": [
    "print(\"this is {py} using {mv}\".format(py=\"python\", mv=\"multiple variables\"))"
   ]
  },
  {
   "cell_type": "code",
   "execution_count": 2,
   "metadata": {
    "collapsed": false
   },
   "outputs": [
    {
     "data": {
      "text/plain": [
       "{'In': ['',\n",
       "  u'print(\"this is {py} using {mv}\".format(py=\"python\", mv=\"multiple variables\"))',\n",
       "  u'globals()'],\n",
       " 'Out': {},\n",
       " '_': '',\n",
       " '__': '',\n",
       " '___': '',\n",
       " '__builtin__': <module '__builtin__' (built-in)>,\n",
       " '__builtins__': <module '__builtin__' (built-in)>,\n",
       " '__doc__': 'Automatically created module for IPython interactive environment',\n",
       " '__name__': '__main__',\n",
       " '_dh': [u'/Users/louistur/Developer/Python/PythonBootcamp'],\n",
       " '_i': u'print(\"this is {py} using {mv}\".format(py=\"python\", mv=\"multiple variables\"))',\n",
       " '_i1': u'print(\"this is {py} using {mv}\".format(py=\"python\", mv=\"multiple variables\"))',\n",
       " '_i2': u'globals()',\n",
       " '_ih': ['',\n",
       "  u'print(\"this is {py} using {mv}\".format(py=\"python\", mv=\"multiple variables\"))',\n",
       "  u'globals()'],\n",
       " '_ii': u'',\n",
       " '_iii': u'',\n",
       " '_oh': {},\n",
       " '_sh': <module 'IPython.core.shadowns' from '/Users/louistur/anaconda/lib/python2.7/site-packages/IPython/core/shadowns.pyc'>,\n",
       " 'exit': <IPython.core.autocall.ZMQExitAutocall at 0x10f5d96d0>,\n",
       " 'get_ipython': <bound method ZMQInteractiveShell.get_ipython of <ipykernel.zmqshell.ZMQInteractiveShell object at 0x10f49bed0>>,\n",
       " 'quit': <IPython.core.autocall.ZMQExitAutocall at 0x10f5d96d0>}"
      ]
     },
     "execution_count": 2,
     "metadata": {},
     "output_type": "execute_result"
    }
   ],
   "source": [
    "globals()"
   ]
  },
  {
   "cell_type": "code",
   "execution_count": 3,
   "metadata": {
    "collapsed": false
   },
   "outputs": [
    {
     "data": {
      "text/plain": [
       "{'In': ['',\n",
       "  u'print(\"this is {py} using {mv}\".format(py=\"python\", mv=\"multiple variables\"))',\n",
       "  u'globals()',\n",
       "  u'locals()'],\n",
       " 'Out': {2: {...}},\n",
       " '_': {...},\n",
       " '_2': {...},\n",
       " '__': '',\n",
       " '___': '',\n",
       " '__builtin__': <module '__builtin__' (built-in)>,\n",
       " '__builtins__': <module '__builtin__' (built-in)>,\n",
       " '__doc__': 'Automatically created module for IPython interactive environment',\n",
       " '__name__': '__main__',\n",
       " '_dh': [u'/Users/louistur/Developer/Python/PythonBootcamp'],\n",
       " '_i': u'globals()',\n",
       " '_i1': u'print(\"this is {py} using {mv}\".format(py=\"python\", mv=\"multiple variables\"))',\n",
       " '_i2': u'globals()',\n",
       " '_i3': u'locals()',\n",
       " '_ih': ['',\n",
       "  u'print(\"this is {py} using {mv}\".format(py=\"python\", mv=\"multiple variables\"))',\n",
       "  u'globals()',\n",
       "  u'locals()'],\n",
       " '_ii': u'print(\"this is {py} using {mv}\".format(py=\"python\", mv=\"multiple variables\"))',\n",
       " '_iii': u'',\n",
       " '_oh': {2: {...}},\n",
       " '_sh': <module 'IPython.core.shadowns' from '/Users/louistur/anaconda/lib/python2.7/site-packages/IPython/core/shadowns.pyc'>,\n",
       " 'exit': <IPython.core.autocall.ZMQExitAutocall at 0x10f5d96d0>,\n",
       " 'get_ipython': <bound method ZMQInteractiveShell.get_ipython of <ipykernel.zmqshell.ZMQInteractiveShell object at 0x10f49bed0>>,\n",
       " 'quit': <IPython.core.autocall.ZMQExitAutocall at 0x10f5d96d0>}"
      ]
     },
     "execution_count": 3,
     "metadata": {},
     "output_type": "execute_result"
    }
   ],
   "source": [
    "locals()"
   ]
  },
  {
   "cell_type": "code",
   "execution_count": 4,
   "metadata": {
    "collapsed": true
   },
   "outputs": [],
   "source": [
    "x = 50"
   ]
  },
  {
   "cell_type": "code",
   "execution_count": 5,
   "metadata": {
    "collapsed": false
   },
   "outputs": [
    {
     "data": {
      "text/plain": [
       "{'In': ['',\n",
       "  u'print(\"this is {py} using {mv}\".format(py=\"python\", mv=\"multiple variables\"))',\n",
       "  u'globals()',\n",
       "  u'locals()',\n",
       "  u'x = 50',\n",
       "  u'locals()'],\n",
       " 'Out': {2: {...}, 3: {...}},\n",
       " '_': {...},\n",
       " '_2': {...},\n",
       " '_3': {...},\n",
       " '__': {...},\n",
       " '___': '',\n",
       " '__builtin__': <module '__builtin__' (built-in)>,\n",
       " '__builtins__': <module '__builtin__' (built-in)>,\n",
       " '__doc__': 'Automatically created module for IPython interactive environment',\n",
       " '__name__': '__main__',\n",
       " '_dh': [u'/Users/louistur/Developer/Python/PythonBootcamp'],\n",
       " '_i': u'x = 50',\n",
       " '_i1': u'print(\"this is {py} using {mv}\".format(py=\"python\", mv=\"multiple variables\"))',\n",
       " '_i2': u'globals()',\n",
       " '_i3': u'locals()',\n",
       " '_i4': u'x = 50',\n",
       " '_i5': u'locals()',\n",
       " '_ih': ['',\n",
       "  u'print(\"this is {py} using {mv}\".format(py=\"python\", mv=\"multiple variables\"))',\n",
       "  u'globals()',\n",
       "  u'locals()',\n",
       "  u'x = 50',\n",
       "  u'locals()'],\n",
       " '_ii': u'locals()',\n",
       " '_iii': u'globals()',\n",
       " '_oh': {2: {...}, 3: {...}},\n",
       " '_sh': <module 'IPython.core.shadowns' from '/Users/louistur/anaconda/lib/python2.7/site-packages/IPython/core/shadowns.pyc'>,\n",
       " 'exit': <IPython.core.autocall.ZMQExitAutocall at 0x10f5d96d0>,\n",
       " 'get_ipython': <bound method ZMQInteractiveShell.get_ipython of <ipykernel.zmqshell.ZMQInteractiveShell object at 0x10f49bed0>>,\n",
       " 'quit': <IPython.core.autocall.ZMQExitAutocall at 0x10f5d96d0>,\n",
       " 'x': 50}"
      ]
     },
     "execution_count": 5,
     "metadata": {},
     "output_type": "execute_result"
    }
   ],
   "source": [
    "locals()"
   ]
  },
  {
   "cell_type": "code",
   "execution_count": 6,
   "metadata": {
    "collapsed": false
   },
   "outputs": [
    {
     "name": "stdout",
     "output_type": "stream",
     "text": [
      "Help on built-in function locals in module __builtin__:\n",
      "\n",
      "locals(...)\n",
      "    locals() -> dictionary\n",
      "    \n",
      "    Update and return a dictionary containing the current scope's local variables.\n",
      "\n"
     ]
    }
   ],
   "source": [
    "help(locals)"
   ]
  },
  {
   "cell_type": "code",
   "execution_count": null,
   "metadata": {
    "collapsed": true
   },
   "outputs": [],
   "source": []
  }
 ],
 "metadata": {
  "kernelspec": {
   "display_name": "Python 2",
   "language": "python",
   "name": "python2"
  },
  "language_info": {
   "codemirror_mode": {
    "name": "ipython",
    "version": 2
   },
   "file_extension": ".py",
   "mimetype": "text/x-python",
   "name": "python",
   "nbconvert_exporter": "python",
   "pygments_lexer": "ipython2",
   "version": "2.7.13"
  }
 },
 "nbformat": 4,
 "nbformat_minor": 2
}
