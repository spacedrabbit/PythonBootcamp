{
 "cells": [
  {
   "cell_type": "code",
   "execution_count": 1,
   "metadata": {
    "collapsed": true
   },
   "outputs": [],
   "source": [
    "def func():\n",
    "    return 1"
   ]
  },
  {
   "cell_type": "code",
   "execution_count": 2,
   "metadata": {
    "collapsed": true
   },
   "outputs": [],
   "source": [
    "return_one = func"
   ]
  },
  {
   "cell_type": "code",
   "execution_count": 3,
   "metadata": {
    "collapsed": false
   },
   "outputs": [
    {
     "data": {
      "text/plain": [
       "<function __main__.func>"
      ]
     },
     "execution_count": 3,
     "metadata": {},
     "output_type": "execute_result"
    }
   ],
   "source": [
    "return_one"
   ]
  },
  {
   "cell_type": "code",
   "execution_count": 4,
   "metadata": {
    "collapsed": false
   },
   "outputs": [
    {
     "data": {
      "text/plain": [
       "1"
      ]
     },
     "execution_count": 4,
     "metadata": {},
     "output_type": "execute_result"
    }
   ],
   "source": [
    "return_one()"
   ]
  },
  {
   "cell_type": "code",
   "execution_count": 9,
   "metadata": {
    "collapsed": false
   },
   "outputs": [
    {
     "name": "stdout",
     "output_type": "stream",
     "text": [
      "This is a new func\n",
      "Is this a decorator\n"
     ]
    }
   ],
   "source": [
    "def new_decorator(func):\n",
    "    print(\"This is a new func\")\n",
    "    func()\n",
    "\n",
    "@new_decorator\n",
    "def going_to_return_one():\n",
    "    print \"Is this a decorator\"\n",
    "    \n"
   ]
  },
  {
   "cell_type": "code",
   "execution_count": 15,
   "metadata": {
    "collapsed": false
   },
   "outputs": [],
   "source": [
    "new_decorator = going_to_return_one"
   ]
  },
  {
   "cell_type": "code",
   "execution_count": 23,
   "metadata": {
    "collapsed": false
   },
   "outputs": [
    {
     "ename": "TypeError",
     "evalue": "'NoneType' object is not callable",
     "output_type": "error",
     "traceback": [
      "\u001b[0;31m---------------------------------------------------------------------------\u001b[0m",
      "\u001b[0;31mTypeError\u001b[0m                                 Traceback (most recent call last)",
      "\u001b[0;32m<ipython-input-23-b8b79f0b294f>\u001b[0m in \u001b[0;36m<module>\u001b[0;34m()\u001b[0m\n\u001b[0;32m----> 1\u001b[0;31m \u001b[0mnew_decorator\u001b[0m\u001b[0;34m(\u001b[0m\u001b[0;32mlambda\u001b[0m \u001b[0mx\u001b[0m\u001b[0;34m,\u001b[0m \u001b[0my\u001b[0m\u001b[0;34m:\u001b[0m \u001b[0mx\u001b[0m\u001b[0;34m**\u001b[0m\u001b[0my\u001b[0m\u001b[0;34m)\u001b[0m\u001b[0;34m\u001b[0m\u001b[0m\n\u001b[0m",
      "\u001b[0;31mTypeError\u001b[0m: 'NoneType' object is not callable"
     ]
    }
   ],
   "source": [
    "new_decorator(lambda x, y: x**y)"
   ]
  },
  {
   "cell_type": "code",
   "execution_count": 25,
   "metadata": {
    "collapsed": false
   },
   "outputs": [],
   "source": [
    "def hello(name=\"Jose\"):\n",
    "    print(\"Hello %s\" % name)"
   ]
  },
  {
   "cell_type": "code",
   "execution_count": 26,
   "metadata": {
    "collapsed": false
   },
   "outputs": [
    {
     "name": "stdout",
     "output_type": "stream",
     "text": [
      "Hello Jose\n"
     ]
    }
   ],
   "source": [
    "hello()"
   ]
  },
  {
   "cell_type": "code",
   "execution_count": 28,
   "metadata": {
    "collapsed": false
   },
   "outputs": [],
   "source": [
    "greet = hello"
   ]
  },
  {
   "cell_type": "code",
   "execution_count": 29,
   "metadata": {
    "collapsed": false
   },
   "outputs": [
    {
     "name": "stdout",
     "output_type": "stream",
     "text": [
      "Hello Jose\n"
     ]
    }
   ],
   "source": [
    "greet()"
   ]
  },
  {
   "cell_type": "code",
   "execution_count": 30,
   "metadata": {
    "collapsed": false
   },
   "outputs": [
    {
     "data": {
      "text/plain": [
       "{'In': ['',\n",
       "  u'def func():\\n    return 1',\n",
       "  u'return_one = func',\n",
       "  u'return_one',\n",
       "  u'return_one()',\n",
       "  u'@new_decorator\\ndef going_to_return_one',\n",
       "  u'@new_decorator\\ndef going_to_return_one:',\n",
       "  u'@new_decorator\\ndef going_to_return_one:\\n    print \"Is this a decorator\"',\n",
       "  u'@new_decorator\\ndef going_to_return_one():\\n    print \"Is this a decorator\"',\n",
       "  u'def new_decorator(func):\\n    print(\"This is a new func\")\\n    func()\\n\\n@new_decorator\\ndef going_to_return_one():\\n    print \"Is this a decorator\"\\n    ',\n",
       "  u'going_to_return_one',\n",
       "  u'going_to_return_one()',\n",
       "  u'new_decorator',\n",
       "  u'new_decorator()',\n",
       "  u'new_decorator = going_to_return_one()',\n",
       "  u'new_decorator = going_to_return_one',\n",
       "  u'new_decorator',\n",
       "  u'new_decorator()',\n",
       "  u'new_decorator(lambda: x, y: x**y)',\n",
       "  u'new_decorator(lambda: x, y, x**y)',\n",
       "  u'new_decorator(lambda: x, x**y)',\n",
       "  u'new_decorator(lambda: x: x**y)',\n",
       "  u'new_decorator(lambda x: x**y)',\n",
       "  u'new_decorator(lambda x, y: x**y)',\n",
       "  u'def hello(name=\"Jose\"):',\n",
       "  u'def hello(name=\"Jose\"):\\n    print(\"Hello %s\" % name)',\n",
       "  u'hello()',\n",
       "  u'greet = hello\"',\n",
       "  u'greet = hello',\n",
       "  u'greet()',\n",
       "  u'globals()'],\n",
       " 'Out': {3: <function __main__.func>,\n",
       "  4: 1,\n",
       "  12: <function __main__.new_decorator>},\n",
       " '_': <function __main__.new_decorator>,\n",
       " '_12': <function __main__.new_decorator>,\n",
       " '_3': <function __main__.func>,\n",
       " '_4': 1,\n",
       " '__': 1,\n",
       " '___': <function __main__.func>,\n",
       " '__builtin__': <module '__builtin__' (built-in)>,\n",
       " '__builtins__': <module '__builtin__' (built-in)>,\n",
       " '__doc__': 'Automatically created module for IPython interactive environment',\n",
       " '__name__': '__main__',\n",
       " '_dh': [u'/Users/louistur/Developer/Python/PythonBootcamp'],\n",
       " '_i': u'greet()',\n",
       " '_i1': u'def func():\\n    return 1',\n",
       " '_i10': u'going_to_return_one',\n",
       " '_i11': u'going_to_return_one()',\n",
       " '_i12': u'new_decorator',\n",
       " '_i13': u'new_decorator()',\n",
       " '_i14': u'new_decorator = going_to_return_one()',\n",
       " '_i15': u'new_decorator = going_to_return_one',\n",
       " '_i16': u'new_decorator',\n",
       " '_i17': u'new_decorator()',\n",
       " '_i18': u'new_decorator(lambda: x, y: x**y)',\n",
       " '_i19': u'new_decorator(lambda: x, y, x**y)',\n",
       " '_i2': u'return_one = func',\n",
       " '_i20': u'new_decorator(lambda: x, x**y)',\n",
       " '_i21': u'new_decorator(lambda: x: x**y)',\n",
       " '_i22': u'new_decorator(lambda x: x**y)',\n",
       " '_i23': u'new_decorator(lambda x, y: x**y)',\n",
       " '_i24': u'def hello(name=\"Jose\"):',\n",
       " '_i25': u'def hello(name=\"Jose\"):\\n    print(\"Hello %s\" % name)',\n",
       " '_i26': u'hello()',\n",
       " '_i27': u'greet = hello\"',\n",
       " '_i28': u'greet = hello',\n",
       " '_i29': u'greet()',\n",
       " '_i3': u'return_one',\n",
       " '_i30': u'globals()',\n",
       " '_i4': u'return_one()',\n",
       " '_i5': u'@new_decorator\\ndef going_to_return_one',\n",
       " '_i6': u'@new_decorator\\ndef going_to_return_one:',\n",
       " '_i7': u'@new_decorator\\ndef going_to_return_one:\\n    print \"Is this a decorator\"',\n",
       " '_i8': u'@new_decorator\\ndef going_to_return_one():\\n    print \"Is this a decorator\"',\n",
       " '_i9': u'def new_decorator(func):\\n    print(\"This is a new func\")\\n    func()\\n\\n@new_decorator\\ndef going_to_return_one():\\n    print \"Is this a decorator\"\\n    ',\n",
       " '_ih': ['',\n",
       "  u'def func():\\n    return 1',\n",
       "  u'return_one = func',\n",
       "  u'return_one',\n",
       "  u'return_one()',\n",
       "  u'@new_decorator\\ndef going_to_return_one',\n",
       "  u'@new_decorator\\ndef going_to_return_one:',\n",
       "  u'@new_decorator\\ndef going_to_return_one:\\n    print \"Is this a decorator\"',\n",
       "  u'@new_decorator\\ndef going_to_return_one():\\n    print \"Is this a decorator\"',\n",
       "  u'def new_decorator(func):\\n    print(\"This is a new func\")\\n    func()\\n\\n@new_decorator\\ndef going_to_return_one():\\n    print \"Is this a decorator\"\\n    ',\n",
       "  u'going_to_return_one',\n",
       "  u'going_to_return_one()',\n",
       "  u'new_decorator',\n",
       "  u'new_decorator()',\n",
       "  u'new_decorator = going_to_return_one()',\n",
       "  u'new_decorator = going_to_return_one',\n",
       "  u'new_decorator',\n",
       "  u'new_decorator()',\n",
       "  u'new_decorator(lambda: x, y: x**y)',\n",
       "  u'new_decorator(lambda: x, y, x**y)',\n",
       "  u'new_decorator(lambda: x, x**y)',\n",
       "  u'new_decorator(lambda: x: x**y)',\n",
       "  u'new_decorator(lambda x: x**y)',\n",
       "  u'new_decorator(lambda x, y: x**y)',\n",
       "  u'def hello(name=\"Jose\"):',\n",
       "  u'def hello(name=\"Jose\"):\\n    print(\"Hello %s\" % name)',\n",
       "  u'hello()',\n",
       "  u'greet = hello\"',\n",
       "  u'greet = hello',\n",
       "  u'greet()',\n",
       "  u'globals()'],\n",
       " '_ii': u'greet = hello',\n",
       " '_iii': u'greet = hello\"',\n",
       " '_oh': {3: <function __main__.func>,\n",
       "  4: 1,\n",
       "  12: <function __main__.new_decorator>},\n",
       " '_sh': <module 'IPython.core.shadowns' from '/Users/louistur/anaconda/lib/python2.7/site-packages/IPython/core/shadowns.pyc'>,\n",
       " 'exit': <IPython.core.autocall.ZMQExitAutocall at 0x10338f3d0>,\n",
       " 'func': <function __main__.func>,\n",
       " 'get_ipython': <bound method ZMQInteractiveShell.get_ipython of <ipykernel.zmqshell.ZMQInteractiveShell object at 0x103252ed0>>,\n",
       " 'going_to_return_one': None,\n",
       " 'greet': <function __main__.hello>,\n",
       " 'hello': <function __main__.hello>,\n",
       " 'new_decorator': None,\n",
       " 'quit': <IPython.core.autocall.ZMQExitAutocall at 0x10338f3d0>,\n",
       " 'return_one': <function __main__.func>}"
      ]
     },
     "execution_count": 30,
     "metadata": {},
     "output_type": "execute_result"
    }
   ],
   "source": [
    "globals()"
   ]
  },
  {
   "cell_type": "code",
   "execution_count": 31,
   "metadata": {
    "collapsed": false
   },
   "outputs": [
    {
     "data": {
      "text/plain": [
       "{3: <function __main__.func>,\n",
       " 4: 1,\n",
       " 12: <function __main__.new_decorator>,\n",
       " 30: {'In': ['',\n",
       "   u'def func():\\n    return 1',\n",
       "   u'return_one = func',\n",
       "   u'return_one',\n",
       "   u'return_one()',\n",
       "   u'@new_decorator\\ndef going_to_return_one',\n",
       "   u'@new_decorator\\ndef going_to_return_one:',\n",
       "   u'@new_decorator\\ndef going_to_return_one:\\n    print \"Is this a decorator\"',\n",
       "   u'@new_decorator\\ndef going_to_return_one():\\n    print \"Is this a decorator\"',\n",
       "   u'def new_decorator(func):\\n    print(\"This is a new func\")\\n    func()\\n\\n@new_decorator\\ndef going_to_return_one():\\n    print \"Is this a decorator\"\\n    ',\n",
       "   u'going_to_return_one',\n",
       "   u'going_to_return_one()',\n",
       "   u'new_decorator',\n",
       "   u'new_decorator()',\n",
       "   u'new_decorator = going_to_return_one()',\n",
       "   u'new_decorator = going_to_return_one',\n",
       "   u'new_decorator',\n",
       "   u'new_decorator()',\n",
       "   u'new_decorator(lambda: x, y: x**y)',\n",
       "   u'new_decorator(lambda: x, y, x**y)',\n",
       "   u'new_decorator(lambda: x, x**y)',\n",
       "   u'new_decorator(lambda: x: x**y)',\n",
       "   u'new_decorator(lambda x: x**y)',\n",
       "   u'new_decorator(lambda x, y: x**y)',\n",
       "   u'def hello(name=\"Jose\"):',\n",
       "   u'def hello(name=\"Jose\"):\\n    print(\"Hello %s\" % name)',\n",
       "   u'hello()',\n",
       "   u'greet = hello\"',\n",
       "   u'greet = hello',\n",
       "   u'greet()',\n",
       "   u'globals()',\n",
       "   u\"globals()['Out']\"],\n",
       "  'Out': {...},\n",
       "  '_': {...},\n",
       "  '_12': <function __main__.new_decorator>,\n",
       "  '_3': <function __main__.func>,\n",
       "  '_30': {...},\n",
       "  '_4': 1,\n",
       "  '__': <function __main__.new_decorator>,\n",
       "  '___': 1,\n",
       "  '__builtin__': <module '__builtin__' (built-in)>,\n",
       "  '__builtins__': <module '__builtin__' (built-in)>,\n",
       "  '__doc__': 'Automatically created module for IPython interactive environment',\n",
       "  '__name__': '__main__',\n",
       "  '_dh': [u'/Users/louistur/Developer/Python/PythonBootcamp'],\n",
       "  '_i': u'globals()',\n",
       "  '_i1': u'def func():\\n    return 1',\n",
       "  '_i10': u'going_to_return_one',\n",
       "  '_i11': u'going_to_return_one()',\n",
       "  '_i12': u'new_decorator',\n",
       "  '_i13': u'new_decorator()',\n",
       "  '_i14': u'new_decorator = going_to_return_one()',\n",
       "  '_i15': u'new_decorator = going_to_return_one',\n",
       "  '_i16': u'new_decorator',\n",
       "  '_i17': u'new_decorator()',\n",
       "  '_i18': u'new_decorator(lambda: x, y: x**y)',\n",
       "  '_i19': u'new_decorator(lambda: x, y, x**y)',\n",
       "  '_i2': u'return_one = func',\n",
       "  '_i20': u'new_decorator(lambda: x, x**y)',\n",
       "  '_i21': u'new_decorator(lambda: x: x**y)',\n",
       "  '_i22': u'new_decorator(lambda x: x**y)',\n",
       "  '_i23': u'new_decorator(lambda x, y: x**y)',\n",
       "  '_i24': u'def hello(name=\"Jose\"):',\n",
       "  '_i25': u'def hello(name=\"Jose\"):\\n    print(\"Hello %s\" % name)',\n",
       "  '_i26': u'hello()',\n",
       "  '_i27': u'greet = hello\"',\n",
       "  '_i28': u'greet = hello',\n",
       "  '_i29': u'greet()',\n",
       "  '_i3': u'return_one',\n",
       "  '_i30': u'globals()',\n",
       "  '_i31': u\"globals()['Out']\",\n",
       "  '_i4': u'return_one()',\n",
       "  '_i5': u'@new_decorator\\ndef going_to_return_one',\n",
       "  '_i6': u'@new_decorator\\ndef going_to_return_one:',\n",
       "  '_i7': u'@new_decorator\\ndef going_to_return_one:\\n    print \"Is this a decorator\"',\n",
       "  '_i8': u'@new_decorator\\ndef going_to_return_one():\\n    print \"Is this a decorator\"',\n",
       "  '_i9': u'def new_decorator(func):\\n    print(\"This is a new func\")\\n    func()\\n\\n@new_decorator\\ndef going_to_return_one():\\n    print \"Is this a decorator\"\\n    ',\n",
       "  '_ih': ['',\n",
       "   u'def func():\\n    return 1',\n",
       "   u'return_one = func',\n",
       "   u'return_one',\n",
       "   u'return_one()',\n",
       "   u'@new_decorator\\ndef going_to_return_one',\n",
       "   u'@new_decorator\\ndef going_to_return_one:',\n",
       "   u'@new_decorator\\ndef going_to_return_one:\\n    print \"Is this a decorator\"',\n",
       "   u'@new_decorator\\ndef going_to_return_one():\\n    print \"Is this a decorator\"',\n",
       "   u'def new_decorator(func):\\n    print(\"This is a new func\")\\n    func()\\n\\n@new_decorator\\ndef going_to_return_one():\\n    print \"Is this a decorator\"\\n    ',\n",
       "   u'going_to_return_one',\n",
       "   u'going_to_return_one()',\n",
       "   u'new_decorator',\n",
       "   u'new_decorator()',\n",
       "   u'new_decorator = going_to_return_one()',\n",
       "   u'new_decorator = going_to_return_one',\n",
       "   u'new_decorator',\n",
       "   u'new_decorator()',\n",
       "   u'new_decorator(lambda: x, y: x**y)',\n",
       "   u'new_decorator(lambda: x, y, x**y)',\n",
       "   u'new_decorator(lambda: x, x**y)',\n",
       "   u'new_decorator(lambda: x: x**y)',\n",
       "   u'new_decorator(lambda x: x**y)',\n",
       "   u'new_decorator(lambda x, y: x**y)',\n",
       "   u'def hello(name=\"Jose\"):',\n",
       "   u'def hello(name=\"Jose\"):\\n    print(\"Hello %s\" % name)',\n",
       "   u'hello()',\n",
       "   u'greet = hello\"',\n",
       "   u'greet = hello',\n",
       "   u'greet()',\n",
       "   u'globals()',\n",
       "   u\"globals()['Out']\"],\n",
       "  '_ii': u'greet()',\n",
       "  '_iii': u'greet = hello',\n",
       "  '_oh': {...},\n",
       "  '_sh': <module 'IPython.core.shadowns' from '/Users/louistur/anaconda/lib/python2.7/site-packages/IPython/core/shadowns.pyc'>,\n",
       "  'exit': <IPython.core.autocall.ZMQExitAutocall at 0x10338f3d0>,\n",
       "  'func': <function __main__.func>,\n",
       "  'get_ipython': <bound method ZMQInteractiveShell.get_ipython of <ipykernel.zmqshell.ZMQInteractiveShell object at 0x103252ed0>>,\n",
       "  'going_to_return_one': None,\n",
       "  'greet': <function __main__.hello>,\n",
       "  'hello': <function __main__.hello>,\n",
       "  'new_decorator': None,\n",
       "  'quit': <IPython.core.autocall.ZMQExitAutocall at 0x10338f3d0>,\n",
       "  'return_one': <function __main__.func>}}"
      ]
     },
     "execution_count": 31,
     "metadata": {},
     "output_type": "execute_result"
    }
   ],
   "source": [
    "globals()['Out']"
   ]
  },
  {
   "cell_type": "code",
   "execution_count": 32,
   "metadata": {
    "collapsed": false
   },
   "outputs": [
    {
     "data": {
      "text/plain": [
       "{'In': ['',\n",
       "  u'def func():\\n    return 1',\n",
       "  u'return_one = func',\n",
       "  u'return_one',\n",
       "  u'return_one()',\n",
       "  u'@new_decorator\\ndef going_to_return_one',\n",
       "  u'@new_decorator\\ndef going_to_return_one:',\n",
       "  u'@new_decorator\\ndef going_to_return_one:\\n    print \"Is this a decorator\"',\n",
       "  u'@new_decorator\\ndef going_to_return_one():\\n    print \"Is this a decorator\"',\n",
       "  u'def new_decorator(func):\\n    print(\"This is a new func\")\\n    func()\\n\\n@new_decorator\\ndef going_to_return_one():\\n    print \"Is this a decorator\"\\n    ',\n",
       "  u'going_to_return_one',\n",
       "  u'going_to_return_one()',\n",
       "  u'new_decorator',\n",
       "  u'new_decorator()',\n",
       "  u'new_decorator = going_to_return_one()',\n",
       "  u'new_decorator = going_to_return_one',\n",
       "  u'new_decorator',\n",
       "  u'new_decorator()',\n",
       "  u'new_decorator(lambda: x, y: x**y)',\n",
       "  u'new_decorator(lambda: x, y, x**y)',\n",
       "  u'new_decorator(lambda: x, x**y)',\n",
       "  u'new_decorator(lambda: x: x**y)',\n",
       "  u'new_decorator(lambda x: x**y)',\n",
       "  u'new_decorator(lambda x, y: x**y)',\n",
       "  u'def hello(name=\"Jose\"):',\n",
       "  u'def hello(name=\"Jose\"):\\n    print(\"Hello %s\" % name)',\n",
       "  u'hello()',\n",
       "  u'greet = hello\"',\n",
       "  u'greet = hello',\n",
       "  u'greet()',\n",
       "  u'globals()',\n",
       "  u\"globals()['Out']\",\n",
       "  u'locals()'],\n",
       " 'Out': {3: <function __main__.func>,\n",
       "  4: 1,\n",
       "  12: <function __main__.new_decorator>,\n",
       "  30: {...}},\n",
       " '_': {...},\n",
       " '_12': <function __main__.new_decorator>,\n",
       " '_3': <function __main__.func>,\n",
       " '_30': {...},\n",
       " '_4': 1,\n",
       " '__': <function __main__.new_decorator>,\n",
       " '___': 1,\n",
       " '__builtin__': <module '__builtin__' (built-in)>,\n",
       " '__builtins__': <module '__builtin__' (built-in)>,\n",
       " '__doc__': 'Automatically created module for IPython interactive environment',\n",
       " '__name__': '__main__',\n",
       " '_dh': [u'/Users/louistur/Developer/Python/PythonBootcamp'],\n",
       " '_i': u\"globals()['Out']\",\n",
       " '_i1': u'def func():\\n    return 1',\n",
       " '_i10': u'going_to_return_one',\n",
       " '_i11': u'going_to_return_one()',\n",
       " '_i12': u'new_decorator',\n",
       " '_i13': u'new_decorator()',\n",
       " '_i14': u'new_decorator = going_to_return_one()',\n",
       " '_i15': u'new_decorator = going_to_return_one',\n",
       " '_i16': u'new_decorator',\n",
       " '_i17': u'new_decorator()',\n",
       " '_i18': u'new_decorator(lambda: x, y: x**y)',\n",
       " '_i19': u'new_decorator(lambda: x, y, x**y)',\n",
       " '_i2': u'return_one = func',\n",
       " '_i20': u'new_decorator(lambda: x, x**y)',\n",
       " '_i21': u'new_decorator(lambda: x: x**y)',\n",
       " '_i22': u'new_decorator(lambda x: x**y)',\n",
       " '_i23': u'new_decorator(lambda x, y: x**y)',\n",
       " '_i24': u'def hello(name=\"Jose\"):',\n",
       " '_i25': u'def hello(name=\"Jose\"):\\n    print(\"Hello %s\" % name)',\n",
       " '_i26': u'hello()',\n",
       " '_i27': u'greet = hello\"',\n",
       " '_i28': u'greet = hello',\n",
       " '_i29': u'greet()',\n",
       " '_i3': u'return_one',\n",
       " '_i30': u'globals()',\n",
       " '_i31': u\"globals()['Out']\",\n",
       " '_i32': u'locals()',\n",
       " '_i4': u'return_one()',\n",
       " '_i5': u'@new_decorator\\ndef going_to_return_one',\n",
       " '_i6': u'@new_decorator\\ndef going_to_return_one:',\n",
       " '_i7': u'@new_decorator\\ndef going_to_return_one:\\n    print \"Is this a decorator\"',\n",
       " '_i8': u'@new_decorator\\ndef going_to_return_one():\\n    print \"Is this a decorator\"',\n",
       " '_i9': u'def new_decorator(func):\\n    print(\"This is a new func\")\\n    func()\\n\\n@new_decorator\\ndef going_to_return_one():\\n    print \"Is this a decorator\"\\n    ',\n",
       " '_ih': ['',\n",
       "  u'def func():\\n    return 1',\n",
       "  u'return_one = func',\n",
       "  u'return_one',\n",
       "  u'return_one()',\n",
       "  u'@new_decorator\\ndef going_to_return_one',\n",
       "  u'@new_decorator\\ndef going_to_return_one:',\n",
       "  u'@new_decorator\\ndef going_to_return_one:\\n    print \"Is this a decorator\"',\n",
       "  u'@new_decorator\\ndef going_to_return_one():\\n    print \"Is this a decorator\"',\n",
       "  u'def new_decorator(func):\\n    print(\"This is a new func\")\\n    func()\\n\\n@new_decorator\\ndef going_to_return_one():\\n    print \"Is this a decorator\"\\n    ',\n",
       "  u'going_to_return_one',\n",
       "  u'going_to_return_one()',\n",
       "  u'new_decorator',\n",
       "  u'new_decorator()',\n",
       "  u'new_decorator = going_to_return_one()',\n",
       "  u'new_decorator = going_to_return_one',\n",
       "  u'new_decorator',\n",
       "  u'new_decorator()',\n",
       "  u'new_decorator(lambda: x, y: x**y)',\n",
       "  u'new_decorator(lambda: x, y, x**y)',\n",
       "  u'new_decorator(lambda: x, x**y)',\n",
       "  u'new_decorator(lambda: x: x**y)',\n",
       "  u'new_decorator(lambda x: x**y)',\n",
       "  u'new_decorator(lambda x, y: x**y)',\n",
       "  u'def hello(name=\"Jose\"):',\n",
       "  u'def hello(name=\"Jose\"):\\n    print(\"Hello %s\" % name)',\n",
       "  u'hello()',\n",
       "  u'greet = hello\"',\n",
       "  u'greet = hello',\n",
       "  u'greet()',\n",
       "  u'globals()',\n",
       "  u\"globals()['Out']\",\n",
       "  u'locals()'],\n",
       " '_ii': u'globals()',\n",
       " '_iii': u'greet()',\n",
       " '_oh': {3: <function __main__.func>,\n",
       "  4: 1,\n",
       "  12: <function __main__.new_decorator>,\n",
       "  30: {...}},\n",
       " '_sh': <module 'IPython.core.shadowns' from '/Users/louistur/anaconda/lib/python2.7/site-packages/IPython/core/shadowns.pyc'>,\n",
       " 'exit': <IPython.core.autocall.ZMQExitAutocall at 0x10338f3d0>,\n",
       " 'func': <function __main__.func>,\n",
       " 'get_ipython': <bound method ZMQInteractiveShell.get_ipython of <ipykernel.zmqshell.ZMQInteractiveShell object at 0x103252ed0>>,\n",
       " 'going_to_return_one': None,\n",
       " 'greet': <function __main__.hello>,\n",
       " 'hello': <function __main__.hello>,\n",
       " 'new_decorator': None,\n",
       " 'quit': <IPython.core.autocall.ZMQExitAutocall at 0x10338f3d0>,\n",
       " 'return_one': <function __main__.func>}"
      ]
     },
     "execution_count": 32,
     "metadata": {},
     "output_type": "execute_result"
    }
   ],
   "source": [
    "locals()"
   ]
  },
  {
   "cell_type": "code",
   "execution_count": 34,
   "metadata": {
    "collapsed": false
   },
   "outputs": [],
   "source": [
    "def hello_2(name=\"louis\"):\n",
    "    # local functions\n",
    "    print 'The hello() function has been executed'\n",
    "    \n",
    "    def greet():\n",
    "        return '\\t this is inside of the greet() function'\n",
    "    \n",
    "    def welcome():\n",
    "        return '\\t this is inside of the welcome() function'\n",
    "    \n",
    "    print greet()\n",
    "    print welcome()\n",
    "    print 'Now we are back inside the hellow_2 function'"
   ]
  },
  {
   "cell_type": "code",
   "execution_count": 35,
   "metadata": {
    "collapsed": false
   },
   "outputs": [
    {
     "name": "stdout",
     "output_type": "stream",
     "text": [
      "The hello() function has been executed\n",
      "\t this is inside of the greet() function\n",
      "\t this is inside of the welcome() function\n",
      "Now we are back inside the hellow_2 function\n"
     ]
    }
   ],
   "source": [
    "hello_2()"
   ]
  },
  {
   "cell_type": "code",
   "execution_count": 44,
   "metadata": {
    "collapsed": false
   },
   "outputs": [],
   "source": [
    "# returning functions\n",
    "def hello_3(name=\"louis\"):\n",
    "    def greet():\n",
    "        return '\\t this is inside of the greet() function'\n",
    "    \n",
    "    def welcome():\n",
    "        return '\\t this is inside of the welcome() function'\n",
    "    \n",
    "    if name == \"louis\":\n",
    "        return greet\n",
    "    else:\n",
    "        return welcome"
   ]
  },
  {
   "cell_type": "code",
   "execution_count": 48,
   "metadata": {
    "collapsed": true
   },
   "outputs": [],
   "source": [
    "x = hello_3()"
   ]
  },
  {
   "cell_type": "code",
   "execution_count": 50,
   "metadata": {
    "collapsed": false
   },
   "outputs": [
    {
     "name": "stdout",
     "output_type": "stream",
     "text": [
      "\t this is inside of the greet() function\n"
     ]
    }
   ],
   "source": [
    "print x()"
   ]
  },
  {
   "cell_type": "code",
   "execution_count": 53,
   "metadata": {
    "collapsed": false
   },
   "outputs": [
    {
     "name": "stdout",
     "output_type": "stream",
     "text": [
      "Other code goes here\n",
      "Hi Louis\n"
     ]
    }
   ],
   "source": [
    "# functions as arguments\n",
    "def hello_4():\n",
    "    return 'Hi Louis'\n",
    "\n",
    "def other(func):\n",
    "    print \"Other code goes here\"\n",
    "    print func()\n",
    "    \n",
    "other(hello_4)"
   ]
  },
  {
   "cell_type": "code",
   "execution_count": 55,
   "metadata": {
    "collapsed": true
   },
   "outputs": [],
   "source": [
    "def new_decorator(func):\n",
    "    def wrap_func():\n",
    "        print 'Code here, before executing func'\n",
    "        func()\n",
    "        print 'Code here will execute after the func'\n",
    "    \n",
    "    # note: returning the function itself, not the results of the func\n",
    "    return wrap_func\n",
    "\n",
    "def func_needs_decorator():\n",
    "    print 'This function needs a decorator'"
   ]
  },
  {
   "cell_type": "code",
   "execution_count": 56,
   "metadata": {
    "collapsed": false
   },
   "outputs": [
    {
     "name": "stdout",
     "output_type": "stream",
     "text": [
      "This function needs a decorator\n"
     ]
    }
   ],
   "source": [
    "func_needs_decorator()"
   ]
  },
  {
   "cell_type": "code",
   "execution_count": 57,
   "metadata": {
    "collapsed": true
   },
   "outputs": [],
   "source": [
    "func_needs_decorator = new_decorator(func_needs_decorator)"
   ]
  },
  {
   "cell_type": "code",
   "execution_count": 58,
   "metadata": {
    "collapsed": false
   },
   "outputs": [
    {
     "name": "stdout",
     "output_type": "stream",
     "text": [
      "Code here, before executing func\n",
      "This function needs a decorator\n",
      "Code here will execute after the func\n"
     ]
    }
   ],
   "source": [
    "func_needs_decorator()"
   ]
  },
  {
   "cell_type": "code",
   "execution_count": 110,
   "metadata": {
    "collapsed": false
   },
   "outputs": [],
   "source": [
    "def cat_decoy(func):\n",
    "    def wrap_func():\n",
    "        print('In decoy')\n",
    "        func()\n",
    "    return wrap_func\n",
    "\n",
    "def catnip1():\n",
    "    print('In catnip')\n",
    "    "
   ]
  },
  {
   "cell_type": "code",
   "execution_count": 111,
   "metadata": {
    "collapsed": false
   },
   "outputs": [],
   "source": [
    "catnip1 = cat_decoy(catnip1)"
   ]
  },
  {
   "cell_type": "code",
   "execution_count": 114,
   "metadata": {
    "collapsed": false
   },
   "outputs": [],
   "source": [
    "@cat_decoy\n",
    "def catnip():\n",
    "    print 'In cat nip 2'\n",
    "    \n",
    "@cat_decoy\n",
    "def catnip_original():\n",
    "    print 'Original'"
   ]
  },
  {
   "cell_type": "code",
   "execution_count": 113,
   "metadata": {
    "collapsed": false
   },
   "outputs": [
    {
     "name": "stdout",
     "output_type": "stream",
     "text": [
      "In decoy\n",
      "In cat nip 2\n"
     ]
    }
   ],
   "source": [
    "catnip()"
   ]
  },
  {
   "cell_type": "code",
   "execution_count": 115,
   "metadata": {
    "collapsed": false
   },
   "outputs": [
    {
     "name": "stdout",
     "output_type": "stream",
     "text": [
      "In decoy\n",
      "Original\n"
     ]
    }
   ],
   "source": [
    "catnip_original()"
   ]
  },
  {
   "cell_type": "code",
   "execution_count": null,
   "metadata": {
    "collapsed": true
   },
   "outputs": [],
   "source": []
  }
 ],
 "metadata": {
  "kernelspec": {
   "display_name": "Python 2",
   "language": "python",
   "name": "python2"
  },
  "language_info": {
   "codemirror_mode": {
    "name": "ipython",
    "version": 2
   },
   "file_extension": ".py",
   "mimetype": "text/x-python",
   "name": "python",
   "nbconvert_exporter": "python",
   "pygments_lexer": "ipython2",
   "version": "2.7.13"
  }
 },
 "nbformat": 4,
 "nbformat_minor": 2
}
