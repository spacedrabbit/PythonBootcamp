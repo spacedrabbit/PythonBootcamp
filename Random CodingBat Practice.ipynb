{
 "cells": [
  {
   "cell_type": "code",
   "execution_count": 19,
   "metadata": {
    "collapsed": true
   },
   "outputs": [],
   "source": [
    "# http://codingbat.com/prob/p110166\n",
    "def array_front9(nums):\n",
    "    subset = set(nums[:4])\n",
    "    newset = subset.intersection(set([9]))\n",
    "    \n",
    "    return True if len(newset) > 0 else False\n",
    "    "
   ]
  },
  {
   "cell_type": "code",
   "execution_count": 2,
   "metadata": {
    "collapsed": false
   },
   "outputs": [
    {
     "name": "stdout",
     "output_type": "stream",
     "text": [
      "4\n"
     ]
    }
   ],
   "source": [
    "array_front9([1,2,3,4,5,6,7,9])"
   ]
  },
  {
   "cell_type": "code",
   "execution_count": 3,
   "metadata": {
    "collapsed": false
   },
   "outputs": [
    {
     "name": "stdout",
     "output_type": "stream",
     "text": [
      "2\n"
     ]
    }
   ],
   "source": [
    "array_front9([1,2])"
   ]
  },
  {
   "cell_type": "code",
   "execution_count": 24,
   "metadata": {
    "collapsed": false
   },
   "outputs": [
    {
     "data": {
      "text/plain": [
       "True"
      ]
     },
     "execution_count": 24,
     "metadata": {},
     "output_type": "execute_result"
    }
   ],
   "source": [
    "array_front9([9,9,3,9,4])"
   ]
  },
  {
   "cell_type": "code",
   "execution_count": 15,
   "metadata": {
    "collapsed": false
   },
   "outputs": [
    {
     "data": {
      "text/plain": [
       "3"
      ]
     },
     "execution_count": 15,
     "metadata": {},
     "output_type": "execute_result"
    }
   ],
   "source": [
    "[1,2,3][-1]"
   ]
  },
  {
   "cell_type": "code",
   "execution_count": 25,
   "metadata": {
    "collapsed": true
   },
   "outputs": [],
   "source": [
    "def array123(nums):\n",
    "    for i in range(len(nums)):\n",
    "        if nums[i] == 1 and nums[i+1] == 2 and nums[i+2] == 3:\n",
    "            print(\"found\")"
   ]
  },
  {
   "cell_type": "code",
   "execution_count": 26,
   "metadata": {
    "collapsed": false
   },
   "outputs": [
    {
     "name": "stdout",
     "output_type": "stream",
     "text": [
      "found\n"
     ]
    }
   ],
   "source": [
    "array123([1,1,2,3,4,5])"
   ]
  },
  {
   "cell_type": "code",
   "execution_count": 40,
   "metadata": {
    "collapsed": true
   },
   "outputs": [],
   "source": [
    "# http://codingbat.com/prob/p182414\n",
    "def string_match(a, b):\n",
    "    min_len = min(len(a), len(b))\n",
    "    for i in range(min_len):\n",
    "        #print(\"A = %s\" % a[i:i+2])\n",
    "        #print(\"B = %s\" % b[i:i+2])\n",
    "        a_sub = a[i:i+2]\n",
    "        b_sub = b[i:i+2]\n",
    "        \n",
    "        if a_sub == b_sub and len(a_sub) == 2 and len(b_sub) == 2:\n",
    "            print(\"Matches\")"
   ]
  },
  {
   "cell_type": "code",
   "execution_count": 39,
   "metadata": {
    "collapsed": false
   },
   "outputs": [
    {
     "name": "stdout",
     "output_type": "stream",
     "text": [
      "Matches\n",
      "Matches\n"
     ]
    }
   ],
   "source": [
    "string_match(\"abc\", \"abc\")"
   ]
  },
  {
   "cell_type": "code",
   "execution_count": 41,
   "metadata": {
    "collapsed": true
   },
   "outputs": [],
   "source": [
    "#http://codingbat.com/prob/p132290\n",
    "def make_tag(tags, word):\n",
    "    return \"<{t}>{w}</{t}>\".format(t=tags, w=word)"
   ]
  },
  {
   "cell_type": "code",
   "execution_count": 42,
   "metadata": {
    "collapsed": false
   },
   "outputs": [
    {
     "data": {
      "text/plain": [
       "'<cite>Yay</cite>'"
      ]
     },
     "execution_count": 42,
     "metadata": {},
     "output_type": "execute_result"
    }
   ],
   "source": [
    "make_tag(\"cite\", \"Yay\")"
   ]
  },
  {
   "cell_type": "code",
   "execution_count": 43,
   "metadata": {
    "collapsed": true
   },
   "outputs": [],
   "source": [
    "nums = [1, 2, 3]"
   ]
  },
  {
   "cell_type": "code",
   "execution_count": 46,
   "metadata": {
    "collapsed": false
   },
   "outputs": [
    {
     "data": {
      "text/plain": [
       "6"
      ]
     },
     "execution_count": 46,
     "metadata": {},
     "output_type": "execute_result"
    }
   ],
   "source": [
    "reduce(lambda x, y: x+y, nums)"
   ]
  },
  {
   "cell_type": "code",
   "execution_count": 48,
   "metadata": {
    "collapsed": false
   },
   "outputs": [],
   "source": [
    "def rotate_left3(nums):\n",
    "    return nums[1:].append(nums[0])"
   ]
  },
  {
   "cell_type": "code",
   "execution_count": 51,
   "metadata": {
    "collapsed": false
   },
   "outputs": [],
   "source": [
    "val = rotate_left3(nums)"
   ]
  },
  {
   "cell_type": "code",
   "execution_count": 52,
   "metadata": {
    "collapsed": true
   },
   "outputs": [],
   "source": [
    "val"
   ]
  },
  {
   "cell_type": "code",
   "execution_count": 53,
   "metadata": {
    "collapsed": false
   },
   "outputs": [
    {
     "name": "stdout",
     "output_type": "stream",
     "text": [
      "None\n"
     ]
    }
   ],
   "source": [
    "print(val)"
   ]
  },
  {
   "cell_type": "code",
   "execution_count": 54,
   "metadata": {
    "collapsed": false
   },
   "outputs": [
    {
     "data": {
      "text/plain": [
       "[2, 3]"
      ]
     },
     "execution_count": 54,
     "metadata": {},
     "output_type": "execute_result"
    }
   ],
   "source": [
    "nums[1:]"
   ]
  },
  {
   "cell_type": "code",
   "execution_count": 57,
   "metadata": {
    "collapsed": true
   },
   "outputs": [],
   "source": [
    "new = nums[1:].append([100])"
   ]
  },
  {
   "cell_type": "code",
   "execution_count": 56,
   "metadata": {
    "collapsed": false
   },
   "outputs": [
    {
     "data": {
      "text/plain": [
       "[1, 2, 3]"
      ]
     },
     "execution_count": 56,
     "metadata": {},
     "output_type": "execute_result"
    }
   ],
   "source": [
    "nums"
   ]
  },
  {
   "cell_type": "code",
   "execution_count": 58,
   "metadata": {
    "collapsed": true
   },
   "outputs": [],
   "source": [
    "new"
   ]
  },
  {
   "cell_type": "code",
   "execution_count": 59,
   "metadata": {
    "collapsed": false
   },
   "outputs": [
    {
     "data": {
      "text/plain": [
       "[1, 2, 3]"
      ]
     },
     "execution_count": 59,
     "metadata": {},
     "output_type": "execute_result"
    }
   ],
   "source": [
    "nums"
   ]
  },
  {
   "cell_type": "code",
   "execution_count": 60,
   "metadata": {
    "collapsed": false
   },
   "outputs": [
    {
     "data": {
      "text/plain": [
       "1"
      ]
     },
     "execution_count": 60,
     "metadata": {},
     "output_type": "execute_result"
    }
   ],
   "source": [
    "nums[0]"
   ]
  },
  {
   "cell_type": "code",
   "execution_count": 62,
   "metadata": {
    "collapsed": false
   },
   "outputs": [
    {
     "data": {
      "text/plain": [
       "[2, 3, 1]"
      ]
     },
     "execution_count": 62,
     "metadata": {},
     "output_type": "execute_result"
    }
   ],
   "source": [
    "nums[1:] + [nums[0]]"
   ]
  },
  {
   "cell_type": "code",
   "execution_count": 65,
   "metadata": {
    "collapsed": true
   },
   "outputs": [],
   "source": [
    "#http://codingbat.com/prob/p192589\n",
    "#if len 0, return 0, otherwise add up first 2 elements and return \n",
    "def sum2(nums):\n",
    "    if len(nums) == 0:\n",
    "        return 0\n",
    "    \n",
    "    return reduce(lambda x, y: x+y, nums[:2])"
   ]
  },
  {
   "cell_type": "code",
   "execution_count": 66,
   "metadata": {
    "collapsed": false
   },
   "outputs": [
    {
     "data": {
      "text/plain": [
       "3"
      ]
     },
     "execution_count": 66,
     "metadata": {},
     "output_type": "execute_result"
    }
   ],
   "source": [
    "sum2(nums)"
   ]
  },
  {
   "cell_type": "code",
   "execution_count": 76,
   "metadata": {
    "collapsed": false
   },
   "outputs": [],
   "source": [
    "# http://codingbat.com/prob/p116620\n",
    "def sorta_sum(a, b):\n",
    "    result = a + b\n",
    "    print(result)\n",
    "    returned_result = result if (result < 10 or result > 20) else 20\n",
    "    print(returned_result)"
   ]
  },
  {
   "cell_type": "code",
   "execution_count": 70,
   "metadata": {
    "collapsed": false
   },
   "outputs": [
    {
     "data": {
      "text/plain": [
       "20"
      ]
     },
     "execution_count": 70,
     "metadata": {},
     "output_type": "execute_result"
    }
   ],
   "source": [
    "sorta_sum(9, 10)"
   ]
  },
  {
   "cell_type": "code",
   "execution_count": 77,
   "metadata": {
    "collapsed": false
   },
   "outputs": [
    {
     "name": "stdout",
     "output_type": "stream",
     "text": [
      "7\n",
      "7\n"
     ]
    }
   ],
   "source": [
    "sorta_sum(3, 4)"
   ]
  },
  {
   "cell_type": "code",
   "execution_count": 78,
   "metadata": {
    "collapsed": false
   },
   "outputs": [
    {
     "name": "stdout",
     "output_type": "stream",
     "text": [
      "10\n",
      "20\n"
     ]
    }
   ],
   "source": [
    "sorta_sum(4, 6)"
   ]
  },
  {
   "cell_type": "code",
   "execution_count": 80,
   "metadata": {
    "collapsed": false
   },
   "outputs": [],
   "source": [
    "# http://codingbat.com/prob/p143951\n",
    "def lone_sum(a, b, c):\n",
    "  return reduce(lambda x, y: x+y, set([a, b, c]))"
   ]
  },
  {
   "cell_type": "code",
   "execution_count": 94,
   "metadata": {
    "collapsed": false
   },
   "outputs": [],
   "source": [
    "def fix_teen(n):\n",
    "    if 13 <= n < 15:\n",
    "        print('Between 13 and 15')\n",
    "    if 16 < n <= 19:\n",
    "        print('Between 16 and 19')\n",
    "    return n"
   ]
  },
  {
   "cell_type": "code",
   "execution_count": 83,
   "metadata": {
    "collapsed": false
   },
   "outputs": [
    {
     "data": {
      "text/plain": [
       "0"
      ]
     },
     "execution_count": 83,
     "metadata": {},
     "output_type": "execute_result"
    }
   ],
   "source": [
    "fix_teen(11)"
   ]
  },
  {
   "cell_type": "code",
   "execution_count": 85,
   "metadata": {
    "collapsed": false
   },
   "outputs": [
    {
     "data": {
      "text/plain": [
       "11"
      ]
     },
     "execution_count": 85,
     "metadata": {},
     "output_type": "execute_result"
    }
   ],
   "source": [
    "fix_teen(11)"
   ]
  },
  {
   "cell_type": "code",
   "execution_count": 95,
   "metadata": {
    "collapsed": false
   },
   "outputs": [
    {
     "data": {
      "text/plain": [
       "15"
      ]
     },
     "execution_count": 95,
     "metadata": {},
     "output_type": "execute_result"
    }
   ],
   "source": [
    "fix_teen(15)"
   ]
  },
  {
   "cell_type": "code",
   "execution_count": 99,
   "metadata": {
    "collapsed": true
   },
   "outputs": [],
   "source": [
    "# http://codingbat.com/prob/p160533\n",
    "# this one is poorly worded\n",
    "def close_far(a, b, c):\n",
    "    b_is_close = True if abs(a - b) <= 1 else False\n",
    "    c_is_close = True if abs(a - c) <= 1 else False\n",
    "  \n",
    "    if b_is_close:\n",
    "        return (abs(b - c) >= 2 and abs(a - c) >= 2)\n",
    "    elif c_is_close:\n",
    "        return (abs(b - a) >= 2 and abs(b - c) >= 2)\n",
    "    else:\n",
    "        return False"
   ]
  },
  {
   "cell_type": "code",
   "execution_count": 100,
   "metadata": {
    "collapsed": false
   },
   "outputs": [
    {
     "data": {
      "text/plain": [
       "False"
      ]
     },
     "execution_count": 100,
     "metadata": {},
     "output_type": "execute_result"
    }
   ],
   "source": [
    "close_far(4, 5, 3)"
   ]
  },
  {
   "cell_type": "code",
   "execution_count": 119,
   "metadata": {
    "collapsed": false
   },
   "outputs": [
    {
     "data": {
      "text/plain": [
       "['1',\n",
       " '2',\n",
       " 'Fizz',\n",
       " '4',\n",
       " 'Buzz',\n",
       " 'Fizz',\n",
       " '7',\n",
       " '8',\n",
       " 'Fizz',\n",
       " 'Buzz',\n",
       " '11',\n",
       " 'Fizz',\n",
       " '13',\n",
       " '14',\n",
       " 'FizzBuzz']"
      ]
     },
     "execution_count": 119,
     "metadata": {},
     "output_type": "execute_result"
    }
   ],
   "source": [
    "['Fizz' * (not i % 3) + 'Buzz' * (not i % 5) or str(i) for i in range(1, 16)]"
   ]
  },
  {
   "cell_type": "code",
   "execution_count": 120,
   "metadata": {
    "collapsed": false
   },
   "outputs": [
    {
     "data": {
      "text/plain": [
       "True"
      ]
     },
     "execution_count": 120,
     "metadata": {},
     "output_type": "execute_result"
    }
   ],
   "source": [
    "\"1\".isdigit()"
   ]
  },
  {
   "cell_type": "code",
   "execution_count": 126,
   "metadata": {
    "collapsed": false
   },
   "outputs": [
    {
     "name": "stdout",
     "output_type": "stream",
     "text": [
      "enter value2\n",
      "Not a digit\n"
     ]
    }
   ],
   "source": [
    "player_input = raw_input(\"enter value\")\n",
    "\n",
    "if 1 <= player_input <= 9:\n",
    "    print(\"Digit\")\n",
    "else:\n",
    "    print(\"Not a digit\")"
   ]
  },
  {
   "cell_type": "code",
   "execution_count": 146,
   "metadata": {
    "collapsed": true
   },
   "outputs": [],
   "source": [
    "# http://codingbat.com/prob/p190859\n",
    "def make_chocolate(small, big, goal):\n",
    "    remaining = 0\n",
    "    for i in range(1, big + 1):\n",
    "        result =  True if (goal - (i * 5)) > 0 else False\n",
    "        if result:\n",
    "            remaining = goal - (i * 5)\n",
    "        else:\n",
    "            break\n",
    "    print(\"Remaining {r}\".format(r=remaining))\n",
    "    \n",
    "    if small >= remaining:\n",
    "        return remaining\n",
    "    else:\n",
    "        return -1"
   ]
  },
  {
   "cell_type": "code",
   "execution_count": 152,
   "metadata": {
    "collapsed": false
   },
   "outputs": [
    {
     "name": "stdout",
     "output_type": "stream",
     "text": [
      "Remaining 50\n"
     ]
    },
    {
     "data": {
      "text/plain": [
       "50"
      ]
     },
     "execution_count": 152,
     "metadata": {},
     "output_type": "execute_result"
    }
   ],
   "source": [
    "make_chocolate(60, 100, 550)"
   ]
  },
  {
   "cell_type": "code",
   "execution_count": 156,
   "metadata": {
    "collapsed": false
   },
   "outputs": [
    {
     "data": {
      "text/plain": [
       "0"
      ]
     },
     "execution_count": 156,
     "metadata": {},
     "output_type": "execute_result"
    }
   ],
   "source": [
    "'codexxxxcoze'.count('co\\[+]e')"
   ]
  },
  {
   "cell_type": "code",
   "execution_count": 191,
   "metadata": {
    "collapsed": false
   },
   "outputs": [
    {
     "name": "stdout",
     "output_type": "stream",
     "text": [
      "['code', 'code', 'code']\n"
     ]
    }
   ],
   "source": [
    "from re import *\n",
    "\n",
    "m = findall('co[\\w]{1}e', 'codecodexxxxcode')\n",
    "print(m)"
   ]
  },
  {
   "cell_type": "code",
   "execution_count": 199,
   "metadata": {
    "collapsed": false
   },
   "outputs": [
    {
     "name": "stdout",
     "output_type": "stream",
     "text": [
      "('co', 'e')\n",
      "('od', 'x')\n",
      "('de', 'x')\n",
      "('ex', 'x')\n",
      "('xx', 'c')\n",
      "('xx', 'o')\n",
      "('xc', 'd')\n",
      "('co', 'e')\n"
     ]
    },
    {
     "data": {
      "text/plain": [
       "2"
      ]
     },
     "execution_count": 199,
     "metadata": {},
     "output_type": "execute_result"
    }
   ],
   "source": [
    "def count_code(str):\n",
    "    return_count = 0\n",
    "    for i in range(0, len(str) - 3):\n",
    "        print(str[i:i+2], str[i+3])\n",
    "        if str[i:i+2] == \"co\" and str[i+3] == \"e\":\n",
    "            return_count += 1\n",
    "    return return_count\n",
    "\n",
    "count_code('codexxxcode')"
   ]
  },
  {
   "cell_type": "code",
   "execution_count": 3,
   "metadata": {
    "collapsed": false
   },
   "outputs": [
    {
     "name": "stdout",
     "output_type": "stream",
     "text": [
      "98\n",
      "3\n",
      "10\n"
     ]
    }
   ],
   "source": [
    "# http://codingbat.com/prob/p184853\n",
    "def big_diff(nums):\n",
    "    largest = reduce(lambda x, y: x if x > y else y, nums)\n",
    "    smallest = reduce(lambda x, y: x if x < y else y, nums)\n",
    "    return largest - smallest\n",
    "\n",
    "print big_diff([10, 3, 2, 4, 100])\n",
    "print big_diff([7, 6, 8, 5])\n",
    "print big_diff([10, 0])"
   ]
  },
  {
   "cell_type": "code",
   "execution_count": 15,
   "metadata": {
    "collapsed": false
   },
   "outputs": [
    {
     "data": {
      "text/plain": [
       "3"
      ]
     },
     "execution_count": 15,
     "metadata": {},
     "output_type": "execute_result"
    }
   ],
   "source": [
    "def centered_average(nums):\n",
    "    largest = reduce(lambda x, y: x if x > y else y, nums)\n",
    "    smallest = reduce(lambda x, y: x if x < y else y, nums)\n",
    "\n",
    "    nums.remove(largest)\n",
    "    nums.remove(smallest)\n",
    "    \n",
    "    return sum(nums) / len(nums)\n",
    "    \n",
    "centered_average([1,2,3,6,100])"
   ]
  },
  {
   "cell_type": "code",
   "execution_count": 38,
   "metadata": {
    "collapsed": false
   },
   "outputs": [
    {
     "data": {
      "text/plain": [
       "9"
      ]
     },
     "execution_count": 38,
     "metadata": {},
     "output_type": "execute_result"
    }
   ],
   "source": [
    "# http://codingbat.com/prob/p167025\n",
    "# Return the sum of the numbers in the array,\n",
    "# returning 0 for an empty array. Except the \n",
    "# number 13 is very unlucky, so it does not \n",
    "# count and numbers that come immediately \n",
    "# after a 13 also do not count.\n",
    "def sum13(nums):\n",
    "    while 13 in nums:\n",
    "        index = nums.index(13)\n",
    "        pre = nums[:index]\n",
    "        # the tricky bit: you need to remove the value immediately\n",
    "        # following the 13 too. while making sure that you don't go\n",
    "        # out of bounds\n",
    "        post = nums[index+2:] if len(nums) > index + 2 else []\n",
    "        nums = pre + post\n",
    "        \n",
    "    if len(nums) < 1:\n",
    "        return 0\n",
    "    \n",
    "    return reduce(lambda x, y: x+y, nums)\n",
    "    \n",
    "sum13([5, 13, 2, 4])"
   ]
  },
  {
   "cell_type": "code",
   "execution_count": 44,
   "metadata": {
    "collapsed": false
   },
   "outputs": [
    {
     "data": {
      "text/plain": [
       "2"
      ]
     },
     "execution_count": 44,
     "metadata": {},
     "output_type": "execute_result"
    }
   ],
   "source": [
    "# http://codingbat.com/prob/p108886\n",
    "# Return the sum of the numbers in the array, \n",
    "# except ignore sections of numbers starting \n",
    "# with a 6 and extending to the next 7 (every \n",
    "# 6 will be followed by at least one 7). Return \n",
    "# 0 for no numbers.\n",
    "\n",
    "def sum67(nums):\n",
    "    while 6 in nums:\n",
    "        index_six = nums.index(6)\n",
    "        index_seven = nums.index(7)\n",
    "  \n",
    "        pre = nums[:index_six]\n",
    "        post = nums[index_seven+1:] if len(nums) > index_seven+1 else []\n",
    "        nums = pre + post\n",
    "    \n",
    "    if len(nums) < 1:\n",
    "        return 0\n",
    "  \n",
    "    return reduce(lambda x,y: x+y, nums)\n",
    "\n",
    "sum67([1, 6, 2, 2, 7, 1, 6, 99, 99, 7])"
   ]
  },
  {
   "cell_type": "code",
   "execution_count": null,
   "metadata": {
    "collapsed": true
   },
   "outputs": [],
   "source": []
  }
 ],
 "metadata": {
  "kernelspec": {
   "display_name": "Python 2",
   "language": "python",
   "name": "python2"
  },
  "language_info": {
   "codemirror_mode": {
    "name": "ipython",
    "version": 2
   },
   "file_extension": ".py",
   "mimetype": "text/x-python",
   "name": "python",
   "nbconvert_exporter": "python",
   "pygments_lexer": "ipython2",
   "version": "2.7.13"
  }
 },
 "nbformat": 4,
 "nbformat_minor": 2
}
