{
 "cells": [
  {
   "cell_type": "markdown",
   "metadata": {},
   "source": [
    "### Understanding Decorators \n",
    "[Python Decorators in 12 Steps](http://simeonfranklin.com/blog/2012/jul/1/python-decorators-in-12-steps/)"
   ]
  },
  {
   "cell_type": "code",
   "execution_count": 2,
   "metadata": {
    "collapsed": false
   },
   "outputs": [
    {
     "data": {
      "text/plain": [
       "1"
      ]
     },
     "execution_count": 2,
     "metadata": {},
     "output_type": "execute_result"
    }
   ],
   "source": [
    "# 1. Functions\n",
    "def foo():\n",
    "    return 1\n",
    "foo()"
   ]
  },
  {
   "cell_type": "code",
   "execution_count": 14,
   "metadata": {
    "collapsed": false
   },
   "outputs": [
    {
     "name": "stdout",
     "output_type": "stream",
     "text": [
      "{'a_string': 'This is local'}\n",
      "This is global\n"
     ]
    }
   ],
   "source": [
    "# 2. Scope\n",
    "a_string = \"This is global\"\n",
    "def foo_scope():\n",
    "    a_string = \"This is local\"\n",
    "    print locals()\n",
    "foo_scope()\n",
    "print globals()['a_string']"
   ]
  },
  {
   "cell_type": "code",
   "execution_count": 23,
   "metadata": {
    "collapsed": false
   },
   "outputs": [
    {
     "name": "stdout",
     "output_type": "stream",
     "text": [
      "{'a_string': 'test'}\n"
     ]
    },
    {
     "data": {
      "text/plain": [
       "'This is global'"
      ]
     },
     "execution_count": 23,
     "metadata": {},
     "output_type": "execute_result"
    }
   ],
   "source": [
    "# 3. Variable resolution rules\n",
    "def foo_vrr():\n",
    "    # variable scope is resolved by first checking the local scope\n",
    "    # and if it isn't found, it is considered a new var, even if\n",
    "    # it uses the same namespace\n",
    "    a_string = \"test\"\n",
    "    print locals()\n",
    "foo_vrr()\n",
    "a_string"
   ]
  },
  {
   "cell_type": "code",
   "execution_count": 30,
   "metadata": {
    "collapsed": false
   },
   "outputs": [],
   "source": [
    "# 4. Variable Lifetime\n",
    "def foo_vl():\n",
    "    x = 1\n",
    "foo_vl()\n",
    "# print x gives an error"
   ]
  },
  {
   "cell_type": "code",
   "execution_count": 33,
   "metadata": {
    "collapsed": false
   },
   "outputs": [
    {
     "name": "stdout",
     "output_type": "stream",
     "text": [
      "{'x': 1}\n"
     ]
    }
   ],
   "source": [
    "# 5. Function arguments and parameters\n",
    "# functions are first-class objects, so they can be passed as params to a func\n",
    "def foo_fap(x):\n",
    "    print locals()\n",
    "\n",
    "foo_fap(1)"
   ]
  },
  {
   "cell_type": "code",
   "execution_count": 42,
   "metadata": {
    "collapsed": false
   },
   "outputs": [],
   "source": [
    "# 6. Nested functions\n",
    "def outer():\n",
    "    x = 1\n",
    "    def inner():\n",
    "        print x\n",
    "    inner()\n",
    "# outer()\n",
    "thing = outer\n",
    "# thing()\n",
    "\n"
   ]
  },
  {
   "cell_type": "code",
   "execution_count": 53,
   "metadata": {
    "collapsed": false
   },
   "outputs": [
    {
     "name": "stdout",
     "output_type": "stream",
     "text": [
      "True\n",
      "True\n",
      "<type 'function'>\n",
      "<type 'function'>\n",
      "True\n"
     ]
    }
   ],
   "source": [
    "# 7. Funcs are 1st Class\n",
    "print issubclass(int, object)\n",
    "print isinstance(\"hello\", object)\n",
    "\n",
    "# all objects in python are subclass of object\n",
    "def foo_fcc():\n",
    "    print 'hello'\n",
    "    \n",
    "print foo_fcc.__class__\n",
    "print type(foo_fcc)\n",
    "print issubclass(foo_fcc.__class__, object)"
   ]
  },
  {
   "cell_type": "code",
   "execution_count": 57,
   "metadata": {
    "collapsed": false
   },
   "outputs": [
    {
     "name": "stdout",
     "output_type": "stream",
     "text": [
      "3\n",
      "-3\n"
     ]
    }
   ],
   "source": [
    "# functions that receive functions as parameters\n",
    "def add(x, y):\n",
    "    return x + y\n",
    "def sub(x, y):\n",
    "    return x - y\n",
    "def apply_operation(func, x, y):\n",
    "    return func(x, y)\n",
    "\n",
    "print apply_operation(add, 2, 1)\n",
    "print apply_operation(sub, 2, 5)"
   ]
  },
  {
   "cell_type": "code",
   "execution_count": 67,
   "metadata": {
    "collapsed": false
   },
   "outputs": [
    {
     "name": "stdout",
     "output_type": "stream",
     "text": [
      "<function inner at 0x1062e8140>\n",
      "Inside inner\n",
      "<function inner at 0x1062e8230>\n",
      "Inside with mittens\n"
     ]
    }
   ],
   "source": [
    "# functions can also return functions\n",
    "def outer():\n",
    "    def inner():\n",
    "        print \"Inside inner\"\n",
    "    # now, we just pass back a function label\n",
    "    return inner\n",
    "\n",
    "# but by doing this we can assign the inner function to another variable\n",
    "foo = outer()\n",
    "print foo\n",
    "foo()\n",
    "\n",
    "def outer_one():\n",
    "    def inner(x):\n",
    "        print \"Inside with {0}\".format(x)\n",
    "    return inner\n",
    "bar = outer_one()\n",
    "print bar\n",
    "bar(\"mittens\")"
   ]
  },
  {
   "cell_type": "code",
   "execution_count": 70,
   "metadata": {
    "collapsed": false
   },
   "outputs": [
    {
     "name": "stdout",
     "output_type": "stream",
     "text": [
      "<function inner at 0x1062e80c8>\n",
      "(<cell at 0x105fb1600: int object at 0x7fb08f603b88>,)\n"
     ]
    }
   ],
   "source": [
    "# 8. Closures\n",
    "def outer():\n",
    "    x = 1\n",
    "    def inner():\n",
    "        print x\n",
    "    return inner\n",
    "\n",
    "foo = outer()\n",
    "print foo\n",
    "print foo.func_closure"
   ]
  },
  {
   "cell_type": "code",
   "execution_count": 72,
   "metadata": {
    "collapsed": false
   },
   "outputs": [
    {
     "name": "stdout",
     "output_type": "stream",
     "text": [
      "1\n",
      "2\n"
     ]
    }
   ],
   "source": [
    "# closures: functions remember their enclosing scope at the time of definition\n",
    "def outer_param(x):\n",
    "    def inner():\n",
    "        print x\n",
    "    return inner\n",
    "\n",
    "print1 = outer_param(1)\n",
    "print2 = outer_param(2)\n",
    "print1()\n",
    "print2()"
   ]
  },
  {
   "cell_type": "code",
   "execution_count": 82,
   "metadata": {
    "collapsed": false
   },
   "outputs": [
    {
     "name": "stdout",
     "output_type": "stream",
     "text": [
      "before some_func\n",
      "2\n",
      "before some_func\n",
      "2\n",
      "before some_func\n",
      "2\n"
     ]
    }
   ],
   "source": [
    "# 9. Decorators! \n",
    "# a decorator is just a callable that takes a function as an argument \n",
    "# and returns a replacement function\n",
    "\n",
    "def outer(some_func):\n",
    "    def innert():\n",
    "        print \"before some_func\"\n",
    "        ret = some_func() # get the value of some_func, store it\n",
    "        return ret + 1 # return the value + 1\n",
    "    return innert # return the innert func label\n",
    "\n",
    "def return_one():\n",
    "    return 1\n",
    "\n",
    "decorated = outer(return_one) \n",
    "print decorated()\n",
    "# you could say: decorated is a decorated version of return_one, because\n",
    "# it does return_one plus something else\n",
    "\n",
    "# we could also replace the original version of return_one with the \n",
    "# decorated form so that we would always get our \"plus something else\" \n",
    "# version of return_one\n",
    "return_one = outer(return_one)\n",
    "print return_one()\n",
    "\n",
    "# now, any future calls to return_one will return the decorated version\n",
    "# instead of the original\n",
    "print return_one()"
   ]
  },
  {
   "cell_type": "code",
   "execution_count": 83,
   "metadata": {
    "collapsed": false
   },
   "outputs": [
    {
     "data": {
      "text/plain": [
       "Coord: {'y': 400, 'x': 400}"
      ]
     },
     "execution_count": 83,
     "metadata": {},
     "output_type": "execute_result"
    }
   ],
   "source": [
    "class Coordinate(object):\n",
    "    def __init__(self, x, y):\n",
    "        self.x = x\n",
    "        self.y = y\n",
    "    \n",
    "    def __repr__(self):\n",
    "        return \"Coord: \" + str(self.__dict__)\n",
    "    \n",
    "def add(a, b):\n",
    "    return Coordinate(a.x + b.x, a.y + b.y)\n",
    "def sub(a, b):\n",
    "    return Coordinate(a.x - b.x, a.y - b.y)\n",
    "\n",
    "one = Coordinate(100,200)\n",
    "two = Coordinate(300,200)\n",
    "add(one, two)"
   ]
  },
  {
   "cell_type": "code",
   "execution_count": 85,
   "metadata": {
    "collapsed": false
   },
   "outputs": [
    {
     "name": "stdout",
     "output_type": "stream",
     "text": [
      "Coord: {'y': 0, 'x': -200}\n",
      "Coord: {'y': 100, 'x': 0}\n"
     ]
    }
   ],
   "source": [
    "# the above works well, but what if we had this:\n",
    "three = Coordinate(-100, -100)\n",
    "print sub(one, two)\n",
    "print add(one, three)\n",
    "\n",
    "# we'd rather have the difference of one and two be {0, 0} and the sum of \n",
    "# one and three be {100, 200} without having to modify one, two or three"
   ]
  },
  {
   "cell_type": "code",
   "execution_count": 87,
   "metadata": {
    "collapsed": true
   },
   "outputs": [],
   "source": [
    "# one solution would be to add a bounds checking decorator\n",
    "def wrapper(func):\n",
    "    def checker(a, b):\n",
    "        if a.x < 0 or a.y < 0:\n",
    "            a = Coordinate(a.x if a.x>0 else 0, a.y if a.y>0 else 0)\n",
    "        if b.x < 0 or b.y < 0:\n",
    "            b = Coordinate(b.x if b.x>0 else 0, b.y if b.y>0 else 0)\n",
    "        ret = func(a,b)\n",
    "        if ret.x < 0 or ret.y < 0:\n",
    "            ret = Coordinate(ret.x if ret.x > 0 else 0, ret.y if ret.y>0 else 0)\n",
    "        return ret\n",
    "    return checker\n",
    "\n",
    "add = wrapper(add)\n",
    "sub = wrapper(sub)\n",
    "\n",
    "# now, the functions add and sub work as before, but with a little\n",
    "# something extra -- hence they are 'decorated'"
   ]
  },
  {
   "cell_type": "code",
   "execution_count": 88,
   "metadata": {
    "collapsed": false
   },
   "outputs": [
    {
     "data": {
      "text/plain": [
       "Coord: {'y': 0, 'x': 0}"
      ]
     },
     "execution_count": 88,
     "metadata": {},
     "output_type": "execute_result"
    }
   ],
   "source": [
    "sub(one, two)"
   ]
  },
  {
   "cell_type": "code",
   "execution_count": 89,
   "metadata": {
    "collapsed": false
   },
   "outputs": [
    {
     "data": {
      "text/plain": [
       "Coord: {'y': 200, 'x': 100}"
      ]
     },
     "execution_count": 89,
     "metadata": {},
     "output_type": "execute_result"
    }
   ],
   "source": [
    "add(one, three)"
   ]
  },
  {
   "cell_type": "code",
   "execution_count": 97,
   "metadata": {
    "collapsed": false
   },
   "outputs": [
    {
     "name": "stdout",
     "output_type": "stream",
     "text": [
      "much decorated\n"
     ]
    },
    {
     "data": {
      "text/plain": [
       "Coord: {'y': 200, 'x': 100}"
      ]
     },
     "execution_count": 97,
     "metadata": {},
     "output_type": "execute_result"
    }
   ],
   "source": [
    "# 10. The @ symbol applies a decorator to a function\n",
    "# prior to python 2.4, you'd have to rename the function label to have the\n",
    "# decorated effect. but now, you can explicitly declare it\n",
    "\n",
    "# this:\n",
    "add = wrapper(add)\n",
    "\n",
    "# is the same as:\n",
    "@wrapper\n",
    "def add(a,b):\n",
    "    print 'much decorated'\n",
    "    return Coordinate(a.x+b.x, a.y+b.y)\n",
    "\n",
    "add(one, three)"
   ]
  },
  {
   "cell_type": "code",
   "execution_count": 96,
   "metadata": {
    "collapsed": false
   },
   "outputs": [
    {
     "name": "stdout",
     "output_type": "stream",
     "text": [
      "param decorated\n"
     ]
    },
    {
     "data": {
      "text/plain": [
       "Coord: {'y': 0, 'x': 0}"
      ]
     },
     "execution_count": 96,
     "metadata": {},
     "output_type": "execute_result"
    }
   ],
   "source": [
    "@wrapper\n",
    "def sub(a,b):\n",
    "    print 'param decorated'\n",
    "    return Coordinate(a.x-b.x, a.y-b.y)\n",
    "sub(one, two)"
   ]
  },
  {
   "cell_type": "code",
   "execution_count": 101,
   "metadata": {
    "collapsed": false
   },
   "outputs": [
    {
     "name": "stdout",
     "output_type": "stream",
     "text": [
      "()\n",
      "(1, 2, 3)\n",
      "a b ('c',)\n",
      "1 2 (3, 4, 5, 6, 7, 8, 9)\n"
     ]
    }
   ],
   "source": [
    "# 11. *args and **kwargs\n",
    "# the * operator when used in defining a function means that\n",
    "# any extra positional arguments passed to the function end up\n",
    "# with the variable prefaced with a *. So:\n",
    "def one(*args):\n",
    "    print args\n",
    "    \n",
    "one()\n",
    "one(1, 2, 3)\n",
    "\n",
    "def two(x,y,*args):\n",
    "    print x, y, args\n",
    "    \n",
    "two('a','b','c')\n",
    "two(1,2,3,4,5,6,7,8,9)"
   ]
  },
  {
   "cell_type": "code",
   "execution_count": 106,
   "metadata": {
    "collapsed": false
   },
   "outputs": [
    {
     "name": "stdout",
     "output_type": "stream",
     "text": [
      "3\n",
      "3\n"
     ]
    }
   ],
   "source": [
    "'''\n",
    "The * operator, when prefacing a variable that is passed into a function\n",
    "means that the variable contents should be extracted and used a positional\n",
    "arguments\n",
    "'''\n",
    "def add(x, y):\n",
    "    return x + y\n",
    "lst = [1, 2]\n",
    "# the below two function the same\n",
    "print add(lst[0], lst[1])\n",
    "print add(*lst)"
   ]
  },
  {
   "cell_type": "code",
   "execution_count": 108,
   "metadata": {
    "collapsed": false
   },
   "outputs": [
    {
     "name": "stdout",
     "output_type": "stream",
     "text": [
      "{}\n",
      "{'y': 2, 'x': 1}\n"
     ]
    }
   ],
   "source": [
    "# ** does for dicts and k/v pairs what * does for positional parameters\n",
    "def foobar(**kwargs):\n",
    "    print kwargs\n",
    "foobar()\n",
    "foobar(x=1, y=2)"
   ]
  },
  {
   "cell_type": "code",
   "execution_count": 112,
   "metadata": {
    "collapsed": false
   },
   "outputs": [
    {
     "name": "stdout",
     "output_type": "stream",
     "text": [
      "3\n"
     ]
    }
   ],
   "source": [
    "# neither args nor kwargs are part of the python language, it is just\n",
    "# convention to use those words\n",
    "def barfoo(x, y):\n",
    "    print x+y\n",
    "dct = {'x':1, 'y':2} # these must match the expected param labels, x/y\n",
    "barfoo(**dct)"
   ]
  },
  {
   "cell_type": "code",
   "execution_count": 118,
   "metadata": {
    "collapsed": false
   },
   "outputs": [
    {
     "name": "stdout",
     "output_type": "stream",
     "text": [
      "Arguments were: (5, 4), {}\n",
      "20\n",
      "Arguments were: (10,), {}\n",
      "50\n",
      "Arguments were: (), {}\n",
      "2\n"
     ]
    }
   ],
   "source": [
    "# 12. More generic decorators\n",
    "'''\n",
    "We can now write a decorator that \"logs\" the arguments to a functions:\n",
    "'''\n",
    "def logger(func):\n",
    "    def inner(*args, **kwargs):\n",
    "        print 'Arguments were: %s, %s' % (args, kwargs)\n",
    "        return func(*args, **kwargs)\n",
    "    return inner\n",
    "\n",
    "'''\n",
    "The inner function takes any arbitrary number of type of parameters and\n",
    "passes them along as arguments to the wrapped function, inner. This allows\n",
    "you to wrap or decorate any function, no matter the signature\n",
    "'''\n",
    "\n",
    "# mitten = logger(mitten)\n",
    "@logger\n",
    "def mitten(x, y=5):\n",
    "    return x*y\n",
    "\n",
    "# smitten = logger(smitten)\n",
    "@logger\n",
    "def smitten():\n",
    "    return 2\n",
    "\n",
    "# calling these functions results in a \"logging\" output line, as well\n",
    "# as the expected return value of each function\n",
    "print mitten(5, 4)\n",
    "print mitten(10)\n",
    "print smitten()"
   ]
  },
  {
   "cell_type": "code",
   "execution_count": null,
   "metadata": {
    "collapsed": true
   },
   "outputs": [],
   "source": []
  }
 ],
 "metadata": {
  "kernelspec": {
   "display_name": "Python 2",
   "language": "python",
   "name": "python2"
  },
  "language_info": {
   "codemirror_mode": {
    "name": "ipython",
    "version": 2
   },
   "file_extension": ".py",
   "mimetype": "text/x-python",
   "name": "python",
   "nbconvert_exporter": "python",
   "pygments_lexer": "ipython2",
   "version": "2.7.13"
  }
 },
 "nbformat": 4,
 "nbformat_minor": 2
}
